{
 "cells": [
  {
   "cell_type": "markdown",
   "id": "d2693418-cbf8-45f9-a867-f5cfa83eb94a",
   "metadata": {},
   "source": [
    "# Sieci neuronowe i deep learning - Lab 6"
   ]
  },
  {
   "cell_type": "markdown",
   "id": "35789f6f-1aa2-474d-bb6c-2b0ef659b472",
   "metadata": {},
   "source": [
    "# CNN i transfer learning - zadania na ocenę"
   ]
  },
  {
   "cell_type": "markdown",
   "id": "0fffa91e-f3b6-472a-93b5-ac274bfc5633",
   "metadata": {},
   "source": [
    "## Zadanie 1 (5 pkt)\n",
    "\n",
    "- Załaduj zbiór danych (np. CIFAR-10);\n",
    "- Wyświetl kilka przykładowych obrazów;\n",
    "- Zdefiniuj prostą sieć konwolucyjną (maksymalnie 3 warstwy konwolucyjne) do klasyfikacji obrazów.\n",
    "- Ucz model przez 10 epok, korzystając z wybranego przez siebie optymalizatora.\n",
    "- Wykreśl wykres dokładności (accuracy) i funkcji straty (loss) na przestrzeni epok, zarówno dla zbioru treningowego jak i walidacyjnego."
   ]
  },
  {
   "cell_type": "code",
   "execution_count": null,
   "id": "e30b9c35-7439-444c-bbc0-75d8da3c34bf",
   "metadata": {},
   "outputs": [],
   "source": []
  },
  {
   "cell_type": "markdown",
   "id": "b2d4a4d4-e42b-468b-8de1-022e326ee63b",
   "metadata": {},
   "source": [
    "## Zadanie 2 (5 Pkt)\n",
    "\n",
    "Wykorzystaj model z Zadania 1.\n",
    "\n",
    "- Wyświetl filtry (wagi) z pierwszej warstwy konwolucyjnej po zakończeniu uczenia.\n",
    "- Wybierz dowolny obraz testowy i zwizualizuj aktywacje dla tego obrazu po przejściu przez wybraną (jedną) warstwę konwolucyjną."
   ]
  },
  {
   "cell_type": "code",
   "execution_count": null,
   "id": "9b0cf7d9-7f33-4346-b0d3-35354e022c75",
   "metadata": {},
   "outputs": [],
   "source": []
  },
  {
   "cell_type": "markdown",
   "id": "596174cd-62c2-4fc5-98eb-1a6ee22b9c5f",
   "metadata": {},
   "source": [
    "## Zadanie 3 (5 pkt)\n",
    "\n",
    "Użyj tej samej sieci z Zadania 1, ale zastosuj różne metody regularyzacji.\n",
    "\n",
    "- Spróbuj polepszyć wyniki dla zbioru walidacyjnego (testowego), stosując np. Dropout, regularyzację L2, czy augmentację danych.\n",
    "- porównaj wyniki z modelem z Zadania 1 (porównaj accuracy na zbiorze walidacyjnym)."
   ]
  },
  {
   "cell_type": "code",
   "execution_count": null,
   "id": "e3b90b9d-2247-4421-a0bc-540957fd8041",
   "metadata": {},
   "outputs": [],
   "source": []
  },
  {
   "cell_type": "markdown",
   "id": "3c2f32bc-7b5b-4f22-b296-f14fd3f127bd",
   "metadata": {},
   "source": [
    "## Zadanie 4 (5 pkt)\n",
    "\n",
    "Wykorzystaj pretrenowany model MobileNetV2 (lub inny mały model), dostępny w bibliotece Keras/PyTorch. Pamiętaj, aby wybrany model mógł obsługiwać obrazy o rozmiarach takich jak w wybranym zbiorze danych. W przeciwnym przypadku, przeskaluj obrazy do wymaganego rozmiaru\n",
    "\n",
    "- Wczytaj pretrenowany model i zamroź wszystkie warstwy poza ostatnią warstwą klasyfikacyjną.\n",
    "- Dodaj nową/e warstwę/y klasyfikacyjną/e dopasowaną/e do liczby klas w wybranym przez Ciebie zbiorze.\n",
    "- Przetrenuj model tylko na dodanych przez siebie warstwach ostatniej warstwie przez 5 epok.\n",
    "- Porównaj dokładność tego modelu z wynikami z Zadań 1 i 2"
   ]
  },
  {
   "cell_type": "code",
   "execution_count": null,
   "id": "cec0400b-a365-4e53-aeb2-c8ef9a45bd35",
   "metadata": {},
   "outputs": [],
   "source": []
  }
 ],
 "metadata": {
  "kernelspec": {
   "display_name": "Python 3 (ipykernel)",
   "language": "python",
   "name": "python3"
  },
  "language_info": {
   "codemirror_mode": {
    "name": "ipython",
    "version": 3
   },
   "file_extension": ".py",
   "mimetype": "text/x-python",
   "name": "python",
   "nbconvert_exporter": "python",
   "pygments_lexer": "ipython3",
   "version": "3.9.7"
  }
 },
 "nbformat": 4,
 "nbformat_minor": 5
}
