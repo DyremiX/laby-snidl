{
 "cells": [
  {
   "cell_type": "markdown",
   "id": "d2693418-cbf8-45f9-a867-f5cfa83eb94a",
   "metadata": {},
   "source": [
    "# Sieci neuronowe i deep learning - Lab 4"
   ]
  },
  {
   "cell_type": "markdown",
   "id": "35789f6f-1aa2-474d-bb6c-2b0ef659b472",
   "metadata": {},
   "source": [
    "# Konwolucyjne sieci neuronowe"
   ]
  },
  {
   "cell_type": "markdown",
   "id": "0fffa91e-f3b6-472a-93b5-ac274bfc5633",
   "metadata": {},
   "source": [
    "## Ćwiczenie 1\n",
    "\n",
    "- Zaimportuj zbiór danych mnist, korzystając z funkcji mnist.load_data() https://www.tensorflow.org/api_docs/python/tf/keras/datasets/mnist/load_data\n",
    "- Stwórz dwa modele sieci neuronowych: jeden typu MLP, drugi z warstwami konwolucyjnymi i jedną lub dwiema warstwami gęstymi na końcu (https://www.tensorflow.org/api_docs/python/tf/keras/layers/Conv2D) i MaxPooling (https://www.tensorflow.org/api_docs/python/tf/keras/layers/MaxPool2D)\n",
    "- Wytrenuj obydwa modele, porównaj wyniki na zbiorach testowych oraz liczbę parametrów w każdej sieci"
   ]
  },
  {
   "cell_type": "code",
   "execution_count": null,
   "id": "90d88e0f-633d-4e20-b613-154598798128",
   "metadata": {},
   "outputs": [],
   "source": [
    "import tensorflow as tf\n",
    "from tensorflow.keras import layers, models\n",
    "import matplotlib.pyplot as plt\n",
    "import numpy as np\n",
    "from tensorflow.keras.datasets import mnist\n",
    "\n",
    "#####################################"
   ]
  },
  {
   "cell_type": "markdown",
   "id": "217e25ee-c522-417f-9045-cfa269c77a19",
   "metadata": {},
   "source": [
    "## Ćwiczenie 2\n",
    "\n",
    " - Korzystając z pola .layers modelu konwolucyjnego oraz poa output każdej warstwy, wyodrębnij wyjścia poszczególnych warstw konwolucyjnych, stwórz modele pomocnicze pozwalające wyciągać aktywacje w warstwach konwolucyjnych:\n",
    "     \n",
    " - zwizualizuj aktywacje wybranych wastw, korzystając z metody .predict() utworzonych modeli pomocniczych"
   ]
  },
  {
   "cell_type": "code",
   "execution_count": null,
   "id": "4f88d29f-a2b3-4b2d-a5ad-94fe24d95a97",
   "metadata": {},
   "outputs": [],
   "source": [
    "###################################\n",
    "\n",
    "outputs = [layer.output for layer in model.layers[indeksy_warstw_konwolucyjnych]]\n",
    "activations_model = models.Model(inputs=model.input, outputs=outputs)\n",
    "\n",
    "######################################"
   ]
  },
  {
   "cell_type": "markdown",
   "id": "596174cd-62c2-4fc5-98eb-1a6ee22b9c5f",
   "metadata": {},
   "source": [
    "## Ćwiczenie 3\n",
    "\n",
    " Zaimportuj zbiór danych cifar10, korzystając z funkcji cifar10.load_data() https://www.tensorflow.org/api_docs/python/tf/keras/datasets/cifar10/load_data\n",
    " - Przeanalizuj dane, sprawdź, czy nie trzeba normalizować. Zwizualizuj kilka przykładowych obrazów\n",
    "- Stwórz model konwolucyjnej sieci neuronowej. Skompiluj i wytrenuj model, wyświetl krzywe uczenia, zarówno dla dokładności jak i funkcji straty dla zbiorów treningowego i testowego (walidacyjnego). Spróbuj przetestować kilka architektur i wybierz najlepszą, jaką uda się uzyskać\n"
   ]
  },
  {
   "cell_type": "code",
   "execution_count": null,
   "id": "28bffeaf-fef5-4cd6-98be-0270781adcfa",
   "metadata": {},
   "outputs": [],
   "source": [
    "from tensorflow.keras.datasets import cifar10\n",
    "\n",
    "################################"
   ]
  },
  {
   "cell_type": "markdown",
   "id": "3c2f32bc-7b5b-4f22-b296-f14fd3f127bd",
   "metadata": {},
   "source": [
    "# Ćwiczenie 4\n",
    "\n",
    "Zwizualizuj aktywacje wybranych warstw konwolucyjnych modelu z ćwiczenia 3 (tak jak w ćwiczeniu 2 dla poprzedniego modelu)"
   ]
  },
  {
   "cell_type": "code",
   "execution_count": null,
   "id": "c52c4b56-e20c-4f19-8697-96f532992088",
   "metadata": {},
   "outputs": [],
   "source": [
    "###################################################"
   ]
  },
  {
   "cell_type": "markdown",
   "id": "c8ab1970-f4ce-4e13-8afb-8c4c1fa51503",
   "metadata": {},
   "source": [
    "# Ćwiczenie 5\n",
    "\n",
    "- Spróbuj poprawić możliwości generalizowania modelu z Ćwiczenia 3 dodając dwie rzeczy:\n",
    "1. warstwę Dropout miedzy warstwami gęstymi (https://www.tensorflow.org/api_docs/python/tf/keras/layers/Dropout)\n",
    "2. augmentację danych, tworząc fragment modelu typu Sequential, zawierającego warstwy wykonujace operacje augmentacji, np. layers.RandomFlip, layers.RandomRotation, layers.RandomZoom, layers.RandomTranslation\n",
    "- model odpowiadający za augmentację wstaw jako pierwszy element w docelowym modelu sieci neuronowej. Wytrenuj model i wyświetl uzyskane wyniki"
   ]
  },
  {
   "cell_type": "code",
   "execution_count": null,
   "id": "69e5dfbd-a0d6-4f9c-96d0-d2a375edb424",
   "metadata": {},
   "outputs": [],
   "source": [
    "#####################################"
   ]
  }
 ],
 "metadata": {
  "kernelspec": {
   "display_name": "Python 3 (ipykernel)",
   "language": "python",
   "name": "python3"
  },
  "language_info": {
   "codemirror_mode": {
    "name": "ipython",
    "version": 3
   },
   "file_extension": ".py",
   "mimetype": "text/x-python",
   "name": "python",
   "nbconvert_exporter": "python",
   "pygments_lexer": "ipython3",
   "version": "3.9.7"
  }
 },
 "nbformat": 4,
 "nbformat_minor": 5
}
