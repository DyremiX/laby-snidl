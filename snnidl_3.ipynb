{
 "cells": [
  {
   "cell_type": "markdown",
   "id": "d2693418-cbf8-45f9-a867-f5cfa83eb94a",
   "metadata": {},
   "source": [
    "# Sieci neuronowe i deep learning - Lab 3"
   ]
  },
  {
   "cell_type": "markdown",
   "id": "35789f6f-1aa2-474d-bb6c-2b0ef659b472",
   "metadata": {},
   "source": [
    "# MLP w Tensorflow, cz. II"
   ]
  },
  {
   "cell_type": "markdown",
   "id": "0fffa91e-f3b6-472a-93b5-ac274bfc5633",
   "metadata": {},
   "source": [
    "## Cwiczenie 1\n",
    "\n",
    "- Zaimportuj zbiór danych korzystając z funkcji tf.keras.datasets.mnist.load_data: https://www.tensorflow.org/api_docs/python/tf/keras/datasets/mnist/load_data\n",
    "- utwórz obiekty tf.data.Dataset (https://www.tensorflow.org/api_docs/python/tf/data/Dataset), jeden dla zbioru treningowego, drugi dla zbioru testowego, korzystając z metody from_tensor_slices\n",
    "- użyj funkcji: shuffle do wymiaszania danych, batch do pogrupowania ich w paczki\n",
    "- korzystając z metody take, pobierz kilka pierwszych danych, przekonwertuj do macierzy numpy i wyświetl"
   ]
  },
  {
   "cell_type": "code",
   "execution_count": 2,
   "id": "90d88e0f-633d-4e20-b613-154598798128",
   "metadata": {},
   "outputs": [
    {
     "data": {
      "image/png": "[encoded data removed]",
      "text/plain": [
       "<Figure size 1000x500 with 9 Axes>"
      ]
     },
     "metadata": {},
     "output_type": "display_data"
    }
   ],
   "source": [
    "import tensorflow as tf\n",
    "from tensorflow.keras.datasets.mnist import load_data\n",
    "import matplotlib.pyplot as plt\n",
    "\n",
    "# Załadowanie danych MNIST\n",
    "(x_train, y_train), (x_test, y_test) = load_data()\n",
    "\n",
    "# Tworzenie obiektów tf.data.Dataset dla zbioru treningowego i testowego\n",
    "train_ds = tf.data.Dataset.from_tensor_slices((x_train, y_train))\n",
    "test_ds = tf.data.Dataset.from_tensor_slices((x_test, y_test))\n",
    "\n",
    "# Shuffle i batchowanie danych\n",
    "train_ds = train_ds.shuffle(buffer_size=10000).batch(32)\n",
    "test_ds = test_ds.batch(32)\n",
    "\n",
    "# Pobranie kilku pierwszych próbek z train_ds i konwersja do macierzy numpy\n",
    "for images, labels in train_ds.take(1):  # Weźmy tylko pierwszą paczkę danych\n",
    "    images_np = images.numpy()\n",
    "    labels_np = labels.numpy()\n",
    "\n",
    "# Wyświetlenie kilku przykładowych obrazów\n",
    "plt.figure(figsize=(10, 5))\n",
    "for i in range(9):\n",
    "    plt.subplot(3, 3, i+1)\n",
    "    plt.imshow(images_np[i], cmap='gray')\n",
    "    plt.title(f'Etykieta: {labels_np[i]}')\n",
    "    plt.axis('off')\n",
    "\n",
    "plt.tight_layout()\n",
    "plt.show()\n"
   ]
  },
  {
   "cell_type": "markdown",
   "id": "217e25ee-c522-417f-9045-cfa269c77a19",
   "metadata": {},
   "source": [
    "## Ćwiczenie 2\n",
    "\n",
    " - Stwórz własną warstwę neuronową, implementując klasę dziedziczącą po tf.keras.layers.Layer (https://www.tensorflow.org/tutorials/customization/custom_layers). Klasa musi zawierać metodę __init__(self, parametry), build(self, input_shape), w której zdefiniujemy parametry przy pomocy metody self.add_weight, oraz metody def call(self, inputs) do zdefiniowania działania warstwy\n",
    " - Stwórz model sieci neuronowej, wykorzystujący nowy typ warstwy"
   ]
  },
  {
   "cell_type": "code",
   "execution_count": 3,
   "id": "ec933a62-69d2-4a12-8bc9-92ac785024bd",
   "metadata": {},
   "outputs": [
    {
     "name": "stderr",
     "output_type": "stream",
     "text": [
      "c:\\Users\\Dell\\AppData\\Local\\Programs\\Python\\Python312\\Lib\\site-packages\\keras\\src\\layers\\reshaping\\flatten.py:37: UserWarning: Do not pass an `input_shape`/`input_dim` argument to a layer. When using Sequential models, prefer using an `Input(shape)` object as the first layer in the model instead.\n",
      "  super().__init__(**kwargs)\n"
     ]
    },
    {
     "name": "stdout",
     "output_type": "stream",
     "text": [
      "WARNING:tensorflow:From c:\\Users\\Dell\\AppData\\Local\\Programs\\Python\\Python312\\Lib\\site-packages\\keras\\src\\backend\\tensorflow\\core.py:204: The name tf.placeholder is deprecated. Please use tf.compat.v1.placeholder instead.\n",
      "\n"
     ]
    },
    {
     "data": {
      "text/html": [
       "<pre style=\"white-space:pre;overflow-x:auto;line-height:normal;font-family:Menlo,'DejaVu Sans Mono',consolas,'Courier New',monospace\"><span style=\"font-weight: bold\">Model: \"sequential\"</span>\n",
       "</pre>\n"
      ],
      "text/plain": [
       "\u001b[1mModel: \"sequential\"\u001b[0m\n"
      ]
     },
     "metadata": {},
     "output_type": "display_data"
    },
    {
     "data": {
      "text/html": [
       "<pre style=\"white-space:pre;overflow-x:auto;line-height:normal;font-family:Menlo,'DejaVu Sans Mono',consolas,'Courier New',monospace\">┏━━━━━━━━━━━━━━━━━━━━━━━━━━━━━━━━━┳━━━━━━━━━━━━━━━━━━━━━━━━┳━━━━━━━━━━━━━━━┓\n",
       "┃<span style=\"font-weight: bold\"> Layer (type)                    </span>┃<span style=\"font-weight: bold\"> Output Shape           </span>┃<span style=\"font-weight: bold\">       Param # </span>┃\n",
       "┡━━━━━━━━━━━━━━━━━━━━━━━━━━━━━━━━━╇━━━━━━━━━━━━━━━━━━━━━━━━╇━━━━━━━━━━━━━━━┩\n",
       "│ flatten (<span style=\"color: #0087ff; text-decoration-color: #0087ff\">Flatten</span>)               │ (<span style=\"color: #00d7ff; text-decoration-color: #00d7ff\">None</span>, <span style=\"color: #00af00; text-decoration-color: #00af00\">784</span>)            │             <span style=\"color: #00af00; text-decoration-color: #00af00\">0</span> │\n",
       "├─────────────────────────────────┼────────────────────────┼───────────────┤\n",
       "│ custom_layer (<span style=\"color: #0087ff; text-decoration-color: #0087ff\">CustomLayer</span>)      │ (<span style=\"color: #00d7ff; text-decoration-color: #00d7ff\">None</span>, <span style=\"color: #00af00; text-decoration-color: #00af00\">64</span>)             │        <span style=\"color: #00af00; text-decoration-color: #00af00\">50,240</span> │\n",
       "├─────────────────────────────────┼────────────────────────┼───────────────┤\n",
       "│ activation (<span style=\"color: #0087ff; text-decoration-color: #0087ff\">Activation</span>)         │ (<span style=\"color: #00d7ff; text-decoration-color: #00d7ff\">None</span>, <span style=\"color: #00af00; text-decoration-color: #00af00\">64</span>)             │             <span style=\"color: #00af00; text-decoration-color: #00af00\">0</span> │\n",
       "├─────────────────────────────────┼────────────────────────┼───────────────┤\n",
       "│ dense (<span style=\"color: #0087ff; text-decoration-color: #0087ff\">Dense</span>)                   │ (<span style=\"color: #00d7ff; text-decoration-color: #00d7ff\">None</span>, <span style=\"color: #00af00; text-decoration-color: #00af00\">10</span>)             │           <span style=\"color: #00af00; text-decoration-color: #00af00\">650</span> │\n",
       "└─────────────────────────────────┴────────────────────────┴───────────────┘\n",
       "</pre>\n"
      ],
      "text/plain": [
       "┏━━━━━━━━━━━━━━━━━━━━━━━━━━━━━━━━━┳━━━━━━━━━━━━━━━━━━━━━━━━┳━━━━━━━━━━━━━━━┓\n",
       "┃\u001b[1m \u001b[0m\u001b[1mLayer (type)                   \u001b[0m\u001b[1m \u001b[0m┃\u001b[1m \u001b[0m\u001b[1mOutput Shape          \u001b[0m\u001b[1m \u001b[0m┃\u001b[1m \u001b[0m\u001b[1m      Param #\u001b[0m\u001b[1m \u001b[0m┃\n",
       "┡━━━━━━━━━━━━━━━━━━━━━━━━━━━━━━━━━╇━━━━━━━━━━━━━━━━━━━━━━━━╇━━━━━━━━━━━━━━━┩\n",
       "│ flatten (\u001b[38;5;33mFlatten\u001b[0m)               │ (\u001b[38;5;45mNone\u001b[0m, \u001b[38;5;34m784\u001b[0m)            │             \u001b[38;5;34m0\u001b[0m │\n",
       "├─────────────────────────────────┼────────────────────────┼───────────────┤\n",
       "│ custom_layer (\u001b[38;5;33mCustomLayer\u001b[0m)      │ (\u001b[38;5;45mNone\u001b[0m, \u001b[38;5;34m64\u001b[0m)             │        \u001b[38;5;34m50,240\u001b[0m │\n",
       "├─────────────────────────────────┼────────────────────────┼───────────────┤\n",
       "│ activation (\u001b[38;5;33mActivation\u001b[0m)         │ (\u001b[38;5;45mNone\u001b[0m, \u001b[38;5;34m64\u001b[0m)             │             \u001b[38;5;34m0\u001b[0m │\n",
       "├─────────────────────────────────┼────────────────────────┼───────────────┤\n",
       "│ dense (\u001b[38;5;33mDense\u001b[0m)                   │ (\u001b[38;5;45mNone\u001b[0m, \u001b[38;5;34m10\u001b[0m)             │           \u001b[38;5;34m650\u001b[0m │\n",
       "└─────────────────────────────────┴────────────────────────┴───────────────┘\n"
      ]
     },
     "metadata": {},
     "output_type": "display_data"
    },
    {
     "data": {
      "text/html": [
       "<pre style=\"white-space:pre;overflow-x:auto;line-height:normal;font-family:Menlo,'DejaVu Sans Mono',consolas,'Courier New',monospace\"><span style=\"font-weight: bold\"> Total params: </span><span style=\"color: #00af00; text-decoration-color: #00af00\">50,890</span> (198.79 KB)\n",
       "</pre>\n"
      ],
      "text/plain": [
       "\u001b[1m Total params: \u001b[0m\u001b[38;5;34m50,890\u001b[0m (198.79 KB)\n"
      ]
     },
     "metadata": {},
     "output_type": "display_data"
    },
    {
     "data": {
      "text/html": [
       "<pre style=\"white-space:pre;overflow-x:auto;line-height:normal;font-family:Menlo,'DejaVu Sans Mono',consolas,'Courier New',monospace\"><span style=\"font-weight: bold\"> Trainable params: </span><span style=\"color: #00af00; text-decoration-color: #00af00\">50,890</span> (198.79 KB)\n",
       "</pre>\n"
      ],
      "text/plain": [
       "\u001b[1m Trainable params: \u001b[0m\u001b[38;5;34m50,890\u001b[0m (198.79 KB)\n"
      ]
     },
     "metadata": {},
     "output_type": "display_data"
    },
    {
     "data": {
      "text/html": [
       "<pre style=\"white-space:pre;overflow-x:auto;line-height:normal;font-family:Menlo,'DejaVu Sans Mono',consolas,'Courier New',monospace\"><span style=\"font-weight: bold\"> Non-trainable params: </span><span style=\"color: #00af00; text-decoration-color: #00af00\">0</span> (0.00 B)\n",
       "</pre>\n"
      ],
      "text/plain": [
       "\u001b[1m Non-trainable params: \u001b[0m\u001b[38;5;34m0\u001b[0m (0.00 B)\n"
      ]
     },
     "metadata": {},
     "output_type": "display_data"
    }
   ],
   "source": [
    "import tensorflow as tf\n",
    "from tensorflow.keras import layers, Model\n",
    "from tensorflow.keras.models import Sequential\n",
    "import numpy as np\n",
    "\n",
    "# Definicja niestandardowej warstwy\n",
    "class CustomLayer(layers.Layer):\n",
    "    def __init__(self, units=32):\n",
    "        super(CustomLayer, self).__init__()\n",
    "        self.units = units\n",
    "\n",
    "    def build(self, input_shape):\n",
    "        # Dodajemy wagę i przesunięcie (bias)\n",
    "        self.w = self.add_weight(shape=(input_shape[-1], self.units),\n",
    "                                 initializer=\"random_normal\",\n",
    "                                 trainable=True)\n",
    "        self.b = self.add_weight(shape=(self.units,),\n",
    "                                 initializer=\"zeros\",\n",
    "                                 trainable=True)\n",
    "\n",
    "    def call(self, inputs):\n",
    "        # Zastosowanie transformacji liniowej: y = x * W + b\n",
    "        return tf.matmul(inputs, self.w) + self.b\n",
    "\n",
    "# Tworzenie modelu sekwencyjnego wykorzystującego niestandardową warstwę\n",
    "model = Sequential([\n",
    "    layers.Flatten(input_shape=(28, 28)),  # Rozwijamy obraz 28x28 na wektor\n",
    "    CustomLayer(64),                       # Nasza niestandardowa warstwa z 64 jednostkami\n",
    "    layers.Activation('relu'),             # Aktywacja ReLU\n",
    "    layers.Dense(10, activation='softmax') # Warstwa wyjściowa z 10 klasami\n",
    "])\n",
    "\n",
    "# Kompilacja modelu\n",
    "model.compile(optimizer=tf.keras.optimizers.Adam(learning_rate=0.001),\n",
    "              loss=tf.keras.losses.SparseCategoricalCrossentropy(),\n",
    "              metrics=[tf.keras.metrics.SparseCategoricalAccuracy()])\n",
    "\n",
    "# Wyświetlenie struktury modelu\n",
    "model.summary()"
   ]
  },
  {
   "cell_type": "markdown",
   "id": "8d99516b-473d-4a37-bbc4-afff62747d01",
   "metadata": {},
   "source": [
    "## Ćwiczenie 3\n",
    "\n",
    "- Utwórz obiekt odpowiedniej funkcji straty oraz wybranego optymalizatora\n",
    "- Utwórz obiekty odpowiednich metryk, zarówno dla zbioru treningowego jak i testowego\n",
    "- Stworz funkcję do trenowania train_step(x,y) z wykorzystaniem obiektu tf.GradientTape, do monitorowania gradientów. Wykorzystaj funkcję \"gradient\" tego obiektu do wyznaczenia gradientów funkcji straty względem parametrów modelu (model.trainable_variables) oraz metodę \"apply_gradients\" optymalizatora do modyfikacji tych parametrów. Opatrz funkcję dekoratorem @tf.function\n",
    "- Utwórz podobną funkcję dla kroku testowania modelu"
   ]
  },
  {
   "cell_type": "code",
   "execution_count": 4,
   "id": "4a98ce3e",
   "metadata": {},
   "outputs": [
    {
     "name": "stdout",
     "output_type": "stream",
     "text": [
      "Start training\n",
      "Step 0, Loss: 2.2612411975860596, Train Accuracy: 0.1875\n",
      "Step 100, Loss: 0.48317402601242065, Train Accuracy: 0.7336015105247498\n",
      "Step 200, Loss: 0.16578122973442078, Train Accuracy: 0.8011505007743835\n",
      "Step 300, Loss: 0.26816582679748535, Train Accuracy: 0.8343023061752319\n",
      "Step 400, Loss: 0.5244916081428528, Train Accuracy: 0.8527898788452148\n",
      "Step 500, Loss: 0.28649041056632996, Train Accuracy: 0.8647704720497131\n",
      "Step 600, Loss: 0.3789319396018982, Train Accuracy: 0.8739080429077148\n",
      "Step 700, Loss: 0.34990981221199036, Train Accuracy: 0.8802157640457153\n",
      "Step 800, Loss: 0.19603581726551056, Train Accuracy: 0.8851435780525208\n",
      "Step 900, Loss: 0.2861492931842804, Train Accuracy: 0.8903648853302002\n",
      "Step 1000, Loss: 0.09428104758262634, Train Accuracy: 0.8945741653442383\n",
      "Step 1100, Loss: 0.2261473536491394, Train Accuracy: 0.8979620933532715\n",
      "Step 1200, Loss: 0.1591455191373825, Train Accuracy: 0.9005516171455383\n",
      "Step 1300, Loss: 0.5335155725479126, Train Accuracy: 0.9030073285102844\n",
      "Step 1400, Loss: 0.3259914517402649, Train Accuracy: 0.9055362343788147\n",
      "Step 1500, Loss: 0.2820199728012085, Train Accuracy: 0.9076449275016785\n",
      "Step 1600, Loss: 0.169672891497612, Train Accuracy: 0.9101147651672363\n",
      "Step 1700, Loss: 0.12289353460073471, Train Accuracy: 0.912239134311676\n",
      "Step 1800, Loss: 0.16710971295833588, Train Accuracy: 0.9140581488609314\n",
      "End of epoch 0, Training Accuracy: 0.9156666398048401\n",
      "Start testing\n",
      "Step 0, Test Loss: 0.1908312439918518, Test Accuracy: 0.96875\n",
      "Step 100, Test Loss: 0.19530296325683594, Test Accuracy: 0.9207921028137207\n",
      "Step 200, Test Loss: 0.130926251411438, Test Accuracy: 0.928016185760498\n",
      "Step 300, Test Loss: 0.1256544291973114, Test Accuracy: 0.9418604373931885\n",
      "End of epoch 0, Test Accuracy: 0.9401000142097473\n"
     ]
    }
   ],
   "source": [
    "import tensorflow as tf\n",
    "from tensorflow.keras import layers, Model\n",
    "\n",
    "# Definicja modelu z warstwą Flatten\n",
    "class SimpleModel(Model):\n",
    "    def __init__(self):\n",
    "        super(SimpleModel, self).__init__()\n",
    "        self.flatten = layers.Flatten()  # Dodajemy warstwę Flatten\n",
    "        self.dense1 = layers.Dense(64, activation='relu')\n",
    "        self.dense2 = layers.Dense(10, activation='softmax')  # Warstwa wyjściowa dla klasyfikacji\n",
    "\n",
    "    def call(self, inputs):\n",
    "        x = self.flatten(inputs)  # Spłaszczenie wejścia\n",
    "        x = self.dense1(x)\n",
    "        return self.dense2(x)\n",
    "\n",
    "# Utwórz obiekt funkcji straty i optymalizatora\n",
    "loss_fn = tf.keras.losses.SparseCategoricalCrossentropy(from_logits=False)  # 'from_logits=False' ponieważ używamy softmax\n",
    "optimizer = tf.keras.optimizers.Adam()\n",
    "\n",
    "# Utwórz obiekty metryk\n",
    "train_acc_metric = tf.keras.metrics.SparseCategoricalAccuracy()\n",
    "test_acc_metric = tf.keras.metrics.SparseCategoricalAccuracy()\n",
    "\n",
    "# Funkcja do trenowania modelu (jeden krok)\n",
    "@tf.function\n",
    "def train_step(x, y):\n",
    "    with tf.GradientTape() as tape:\n",
    "        # Obliczamy wyjście modelu i stratę\n",
    "        y_pred = model(x, training=True)\n",
    "        loss = loss_fn(y, y_pred)\n",
    "\n",
    "    # Obliczamy gradienty\n",
    "    gradients = tape.gradient(loss, model.trainable_variables)\n",
    "\n",
    "    # Aktualizujemy wagi modelu\n",
    "    optimizer.apply_gradients(zip(gradients, model.trainable_variables))\n",
    "\n",
    "    # Aktualizujemy metrykę dokładności dla treningu\n",
    "    train_acc_metric.update_state(y, y_pred)\n",
    "\n",
    "    return loss\n",
    "\n",
    "# Funkcja do testowania modelu (jeden krok)\n",
    "@tf.function\n",
    "def test_step(x, y):\n",
    "    # Obliczamy wyjście modelu\n",
    "    y_pred = model(x, training=False)\n",
    "    loss = loss_fn(y, y_pred)\n",
    "\n",
    "    # Aktualizujemy metrykę dokładności dla testu\n",
    "    test_acc_metric.update_state(y, y_pred)\n",
    "\n",
    "    return loss\n",
    "\n",
    "# Przykładowe dane\n",
    "(x_train, y_train), (x_test, y_test) = tf.keras.datasets.mnist.load_data()\n",
    "\n",
    "# Przekształcamy dane w kształt [batch_size, 28, 28, 1] (dodajemy wymiar kanału)\n",
    "x_train = x_train[..., tf.newaxis]  # Dodanie wymiaru kanału\n",
    "x_test = x_test[..., tf.newaxis]    # Dodanie wymiaru kanału\n",
    "\n",
    "# Normalizacja danych wejściowych do zakresu [0, 1]\n",
    "x_train = x_train / 255.0\n",
    "x_test = x_test / 255.0\n",
    "\n",
    "# Tworzymy model\n",
    "model = SimpleModel()\n",
    "\n",
    "# Tworzymy Dataset dla treningu i testu\n",
    "train_ds = tf.data.Dataset.from_tensor_slices((x_train, y_train)).shuffle(10000).batch(32)\n",
    "test_ds = tf.data.Dataset.from_tensor_slices((x_test, y_test)).batch(32)\n",
    "\n",
    "# Trening - 1 epoka\n",
    "for epoch in range(1):\n",
    "    print(\"Start training\")\n",
    "    for step, (x_batch, y_batch) in enumerate(train_ds):\n",
    "        loss = train_step(x_batch, y_batch)\n",
    "        if step % 100 == 0:\n",
    "            print(f\"Step {step}, Loss: {loss.numpy()}, Train Accuracy: {train_acc_metric.result().numpy()}\")\n",
    "\n",
    "    # Wyświetlamy dokładność treningową po epokach\n",
    "    print(f\"End of epoch {epoch}, Training Accuracy: {train_acc_metric.result().numpy()}\")\n",
    "\n",
    "# Testowanie - 1 epoka\n",
    "for epoch in range(1):\n",
    "    print(\"Start testing\")\n",
    "    for step, (x_batch, y_batch) in enumerate(test_ds):\n",
    "        loss = test_step(x_batch, y_batch)\n",
    "        if step % 100 == 0:\n",
    "            print(f\"Step {step}, Test Loss: {loss.numpy()}, Test Accuracy: {test_acc_metric.result().numpy()}\")\n",
    "\n",
    "    # Wyświetlamy dokładność testową po epokach\n",
    "    print(f\"End of epoch {epoch}, Test Accuracy: {test_acc_metric.result().numpy()}\")\n"
   ]
  },
  {
   "cell_type": "markdown",
   "id": "596174cd-62c2-4fc5-98eb-1a6ee22b9c5f",
   "metadata": {},
   "source": [
    "## Ćwiczenie 4\n",
    "\n",
    " - Zaimplementuj główną pętlę uczenia modelu dla zadanej liczby epok. Na starcie każdej epoki zresetuj ustawienia obiektów metryk (metodą reset_state), następnie wykonaj kroki uczenia na batchu ze zbioru treningowego oraz testowania na batchu ze zbioru testowego (wykorzystaj zbiory z ćwiczenia nr 1), oraz wyświetl lub zapisz do listy wyniki funkcji straty i dokładności"
   ]
  },
  {
   "cell_type": "code",
   "execution_count": null,
   "id": "28bffeaf-fef5-4cd6-98be-0270781adcfa",
   "metadata": {},
   "outputs": [
    {
     "name": "stdout",
     "output_type": "stream",
     "text": [
      "Epoka 1/5\n"
     ]
    },
    {
     "ename": "AttributeError",
     "evalue": "'SparseCategoricalAccuracy' object has no attribute 'reset_states'",
     "output_type": "error",
     "traceback": [
      "\u001b[1;31m---------------------------------------------------------------------------\u001b[0m",
      "\u001b[1;31mAttributeError\u001b[0m                            Traceback (most recent call last)",
      "Cell \u001b[1;32mIn[5], line 15\u001b[0m\n\u001b[0;32m     12\u001b[0m \u001b[38;5;28mprint\u001b[39m(\u001b[38;5;124mf\u001b[39m\u001b[38;5;124m\"\u001b[39m\u001b[38;5;124mEpoka \u001b[39m\u001b[38;5;132;01m{\u001b[39;00mepoch\u001b[38;5;250m \u001b[39m\u001b[38;5;241m+\u001b[39m\u001b[38;5;250m \u001b[39m\u001b[38;5;241m1\u001b[39m\u001b[38;5;132;01m}\u001b[39;00m\u001b[38;5;124m/\u001b[39m\u001b[38;5;132;01m{\u001b[39;00mEPOCHS\u001b[38;5;132;01m}\u001b[39;00m\u001b[38;5;124m\"\u001b[39m)\n\u001b[0;32m     14\u001b[0m \u001b[38;5;66;03m# Reset metryk na początku każdej epoki\u001b[39;00m\n\u001b[1;32m---> 15\u001b[0m \u001b[43mtrain_acc_metric\u001b[49m\u001b[38;5;241;43m.\u001b[39;49m\u001b[43mreset_states\u001b[49m()\n\u001b[0;32m     16\u001b[0m test_acc_metric\u001b[38;5;241m.\u001b[39mreset_states()\n\u001b[0;32m     18\u001b[0m \u001b[38;5;66;03m# Pętla uczenia dla zbioru treningowego\u001b[39;00m\n",
      "\u001b[1;31mAttributeError\u001b[0m: 'SparseCategoricalAccuracy' object has no attribute 'reset_states'"
     ]
    }
   ],
   "source": [
    "# Parametry\n",
    "EPOCHS = 5  # Możesz ustawić dowolną liczbę epok\n",
    "\n",
    "# Listy do przechowywania wyników dla każdej epoki\n",
    "train_loss_results = []\n",
    "train_accuracy_results = []\n",
    "test_loss_results = []\n",
    "test_accuracy_results = []\n",
    "\n",
    "# Główna pętla uczenia\n",
    "for epoch in range(EPOCHS):\n",
    "    print(f\"Epoka {epoch + 1}/{EPOCHS}\")\n",
    "\n",
    "    # Reset metryk na początku każdej epoki\n",
    "    # train_acc_metric.reset_states()\n",
    "    # test_acc_metric.reset_states()\n",
    "\n",
    "    # Pętla uczenia dla zbioru treningowego\n",
    "    for x_batch_train, y_batch_train in train_ds:\n",
    "        train_loss = train_step(x_batch_train, y_batch_train)\n",
    "    \n",
    "    # Obliczamy dokładność i stratę dla zbioru treningowego na koniec epoki\n",
    "    train_accuracy = train_acc_metric.result().numpy()\n",
    "    train_loss_results.append(train_loss.numpy())\n",
    "    train_accuracy_results.append(train_accuracy)\n",
    "\n",
    "    # Pętla testowania dla zbioru testowego\n",
    "    for x_batch_test, y_batch_test in test_ds:\n",
    "        test_loss = test_step(x_batch_test, y_batch_test)\n",
    "\n",
    "    # Obliczamy dokładność i stratę dla zbioru testowego na koniec epoki\n",
    "    test_accuracy = test_acc_metric.result().numpy()\n",
    "    test_loss_results.append(test_loss.numpy())\n",
    "    test_accuracy_results.append(test_accuracy)\n",
    "\n",
    "    # Wyświetlenie wyników na koniec każdej epoki\n",
    "    print(f\"Epoka {epoch + 1}, Trening - Strata: {train_loss.numpy()}, Dokładność: {train_accuracy}\")\n",
    "    print(f\"Epoka {epoch + 1}, Testowanie - Strata: {test_loss.numpy()}, Dokładność: {test_accuracy}\")\n",
    "\n",
    "print(\"Trening zakończony.\")\n"
   ]
  },
  {
   "cell_type": "markdown",
   "id": "3243243b-f81f-430a-8917-cf97e51e3d5e",
   "metadata": {},
   "source": [
    "# OPTYMALIZACJA HIPERPARAMETRÓW"
   ]
  },
  {
   "cell_type": "markdown",
   "id": "44a33caa-8309-4b51-a13a-504a41bdf0dc",
   "metadata": {},
   "source": [
    "## Ćwiczenie 5\n",
    "\n",
    "- zaimportuj pakiet keras-tuner \n",
    "- Utwórz klasę dziedziczącą po klasie kt.HyperModel (https://keras.io/api/keras_tuner/hypermodels/), której metodą jest metoda def build(self, hp), zwracająca model generowany (i skompilowany) z wykorzystaniem frameworku Keras. parametr \"hp\" pozwala na definiowanie przedziałów poszukiwań parametrów modelu (np. liczby neuronów w warstwie)\n",
    "- Utwórz obiekt tunera (np. kt.RandomSearch, https://keras.io/api/keras_tuner/tuners/) \n",
    "- Naucz model i znajdź optymalne wartości hiperparametrów metodą tuner.search (przyjmuje takie same parametry jak metoda \"fit\" przy trenowaniu modeli)\n"
   ]
  },
  {
   "cell_type": "code",
   "execution_count": null,
   "id": "9bc219ac-a3bc-44d5-96d0-697ee2315e9e",
   "metadata": {},
   "outputs": [],
   "source": [
    "import keras_tuner as kt\n",
    "from tensorflow.keras import layers, Model, optimizers\n",
    "from tensorflow.keras.datasets import mnist\n",
    "from tensorflow.keras.utils import to_categorical\n",
    "\n",
    "# Ładowanie i przygotowanie danych MNIST\n",
    "(x_train, y_train), (x_test, y_test) = mnist.load_data()\n",
    "x_train, x_test = x_train / 255.0, x_test / 255.0  # Normalizacja\n",
    "y_train = to_categorical(y_train, 10)\n",
    "y_test = to_categorical(y_test, 10)\n",
    "\n",
    "# Klasa HyperModel\n",
    "class MyHyperModel(kt.HyperModel):\n",
    "    def build(self, hp):\n",
    "        model = Model()\n",
    "        inputs = layers.Input(shape=(28, 28))\n",
    "        x = layers.Flatten()(inputs)\n",
    "        \n",
    "        # Pierwsza warstwa - liczba neuronów poszukiwana między 32 a 512\n",
    "        x = layers.Dense(\n",
    "            units=hp.Int('units1', min_value=32, max_value=512, step=32), \n",
    "            activation='relu'\n",
    "        )(x)\n",
    "        \n",
    "        # Druga warstwa - liczba neuronów poszukiwana między 32 a 512\n",
    "        x = layers.Dense(\n",
    "            units=hp.Int('units2', min_value=32, max_value=512, step=32),\n",
    "            activation='relu'\n",
    "        )(x)\n",
    "        \n",
    "        # Wyjście\n",
    "        outputs = layers.Dense(10, activation='softmax')(x)\n",
    "        model = Model(inputs=inputs, outputs=outputs)\n",
    "        \n",
    "        # Kompilacja modelu\n",
    "        model.compile(\n",
    "            optimizer=optimizers.Adam(\n",
    "                hp.Choice('learning_rate', values=[1e-2, 1e-3, 1e-4])\n",
    "            ),\n",
    "            loss='categorical_crossentropy',\n",
    "            metrics=['accuracy']\n",
    "        )\n",
    "        return model\n",
    "\n",
    "# Obiekt tunera\n",
    "tuner = kt.RandomSearch(\n",
    "    MyHyperModel(),\n",
    "    objective='val_loss',\n",
    "    max_trials=5,  # Maksymalna liczba prób poszukiwań\n",
    "    executions_per_trial=3,  # Liczba wykonanych prób dla każdego zestawu hiperparametrów\n",
    "    directory='my_dir',  # Katalog do zapisu wyników\n",
    "    project_name='mnist_tuning'  # Nazwa projektu\n",
    ")\n",
    "\n",
    "# Wyszukiwanie optymalnych wartości hiperparametrów\n",
    "tuner.search(x_train, y_train, epochs=5, validation_data=(x_test, y_test))\n",
    "\n",
    "# Wyświetlenie najlepszych hiperparametrów\n",
    "best_hps = tuner.get_best_hyperparameters(num_trials=1)[0]\n",
    "print(f\"Najlepsze hiperparametry: Jednostki warstwy 1: {best_hps.get('units1')}, Jednostki warstwy 2: {best_hps.get('units2')}, Learning rate: {best_hps.get('learning_rate')}\")\n"
   ]
  }
 ],
 "metadata": {
  "kernelspec": {
   "display_name": "Python 3",
   "language": "python",
   "name": "python3"
  },
  "language_info": {
   "codemirror_mode": {
    "name": "ipython",
    "version": 3
   },
   "file_extension": ".py",
   "mimetype": "text/x-python",
   "name": "python",
   "nbconvert_exporter": "python",
   "pygments_lexer": "ipython3",
   "version": "3.12.7"
  }
 },
 "nbformat": 4,
 "nbformat_minor": 5
}
