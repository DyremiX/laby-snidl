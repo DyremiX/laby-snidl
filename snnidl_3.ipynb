{
 "cells": [
  {
   "cell_type": "markdown",
   "id": "d2693418-cbf8-45f9-a867-f5cfa83eb94a",
   "metadata": {},
   "source": [
    "# Sieci neuronowe i deep learning - Lab 3"
   ]
  },
  {
   "cell_type": "markdown",
   "id": "35789f6f-1aa2-474d-bb6c-2b0ef659b472",
   "metadata": {},
   "source": [
    "# MLP w Tensorflow, cz. II"
   ]
  },
  {
   "cell_type": "markdown",
   "id": "0fffa91e-f3b6-472a-93b5-ac274bfc5633",
   "metadata": {},
   "source": [
    "## Cwiczenie 1\n",
    "\n",
    "- Zaimportuj zbiór danych korzystając z funkcji tf.keras.datasets.mnist.load_data: https://www.tensorflow.org/api_docs/python/tf/keras/datasets/mnist/load_data\n",
    "- utwórz obiekty tf.data.Dataset (https://www.tensorflow.org/api_docs/python/tf/data/Dataset), jeden dla zbioru treningowego, drugi dla zbioru testowego, korzystając z metody from_tensor_slices\n",
    "- użyj funkcji: shuffle do wymiaszania danych, batch do pogrupowania ich w paczki\n",
    "- korzystając z metody take, pobierz kilka pierwszych danych, przekonwertuj do macierzy numpy i wyświetl"
   ]
  },
  {
   "cell_type": "code",
   "execution_count": null,
   "id": "90d88e0f-633d-4e20-b613-154598798128",
   "metadata": {},
   "outputs": [
    {
     "data": {
      "image/png": "[encoded data removed]",
      "text/plain": [
       "<Figure size 1000x500 with 9 Axes>"
      ]
     },
     "metadata": {},
     "output_type": "display_data"
    }
   ],
   "source": [
    "import tensorflow as tf\n",
    "from tensorflow.keras.datasets.mnist import load_data\n",
    "import matplotlib.pyplot as plt\n",
    "\n",
    "# Załadowanie danych MNIST\n",
    "(x_train, y_train), (x_test, y_test) = load_data()\n",
    "\n",
    "# Tworzenie obiektów tf.data.Dataset dla zbioru treningowego i testowego\n",
    "train_ds = tf.data.Dataset.from_tensor_slices((x_train, y_train))\n",
    "test_ds = tf.data.Dataset.from_tensor_slices((x_test, y_test))\n",
    "\n",
    "# Shuffle i batchowanie danych\n",
    "train_ds = train_ds.shuffle(buffer_size=10000).batch(32)\n",
    "test_ds = test_ds.batch(32)\n",
    "\n",
    "# Pobranie kilku pierwszych próbek z train_ds i konwersja do macierzy numpy\n",
    "for images, labels in train_ds.take(1):  # Weźmy tylko pierwszą paczkę danych\n",
    "    images_np = images.numpy()\n",
    "    labels_np = labels.numpy()\n",
    "\n",
    "# Wyświetlenie kilku przykładowych obrazów\n",
    "plt.figure(figsize=(10, 5))\n",
    "for i in range(9):\n",
    "    plt.subplot(3, 3, i+1)\n",
    "    plt.imshow(images_np[i], cmap='gray')\n",
    "    plt.title(f'Etykieta: {labels_np[i]}')\n",
    "    plt.axis('off')\n",
    "\n",
    "plt.tight_layout()\n",
    "plt.show()\n"
   ]
  },
  {
   "cell_type": "markdown",
   "id": "217e25ee-c522-417f-9045-cfa269c77a19",
   "metadata": {},
   "source": [
    "## Ćwiczenie 2\n",
    "\n",
    " - Stwórz własną warstwę neuronową, implementując klasę dziedziczącą po tf.keras.layers.Layer (https://www.tensorflow.org/tutorials/customization/custom_layers). Klasa musi zawierać metodę __init__(self, parametry), build(self, input_shape), w której zdefiniujemy parametry przy pomocy metody self.add_weight, oraz metody def call(self, inputs) do zdefiniowania działania warstwy\n",
    " - Stwórz model sieci neuronowej, wykorzystujący nowy typ warstwy"
   ]
  },
  {
   "cell_type": "code",
   "execution_count": null,
   "id": "ec933a62-69d2-4a12-8bc9-92ac785024bd",
   "metadata": {},
   "outputs": [
    {
     "name": "stdout",
     "output_type": "stream",
     "text": [
      "WARNING:tensorflow:From C:\\Users\\GIGABYTE\\AppData\\Roaming\\Python\\Python311\\site-packages\\keras\\src\\backend.py:873: The name tf.get_default_graph is deprecated. Please use tf.compat.v1.get_default_graph instead.\n",
      "\n",
      "Model: \"sequential\"\n",
      "_________________________________________________________________\n",
      " Layer (type)                Output Shape              Param #   \n",
      "=================================================================\n",
      " flatten (Flatten)           (None, 784)               0         \n",
      "                                                                 \n",
      " custom_layer (CustomLayer)  (None, 64)                50240     \n",
      "                                                                 \n",
      " activation (Activation)     (None, 64)                0         \n",
      "                                                                 \n",
      " dense (Dense)               (None, 10)                650       \n",
      "                                                                 \n",
      "=================================================================\n",
      "Total params: 50890 (198.79 KB)\n",
      "Trainable params: 50890 (198.79 KB)\n",
      "Non-trainable params: 0 (0.00 Byte)\n",
      "_________________________________________________________________\n"
     ]
    }
   ],
   "source": [
    "import tensorflow as tf\n",
    "from tensorflow.keras import layers, Model\n",
    "from tensorflow.keras.models import Sequential\n",
    "import numpy as np\n",
    "\n",
    "# Definicja niestandardowej warstwy\n",
    "class CustomLayer(layers.Layer):\n",
    "    def __init__(self, units=32):\n",
    "        super(CustomLayer, self).__init__()\n",
    "        self.units = units\n",
    "\n",
    "    def build(self, input_shape):\n",
    "        # Dodajemy wagę i przesunięcie (bias)\n",
    "        self.w = self.add_weight(shape=(input_shape[-1], self.units),\n",
    "                                 initializer=\"random_normal\",\n",
    "                                 trainable=True)\n",
    "        self.b = self.add_weight(shape=(self.units,),\n",
    "                                 initializer=\"zeros\",\n",
    "                                 trainable=True)\n",
    "\n",
    "    def call(self, inputs):\n",
    "        # Zastosowanie transformacji liniowej: y = x * W + b\n",
    "        return tf.matmul(inputs, self.w) + self.b\n",
    "\n",
    "# Tworzenie modelu sekwencyjnego wykorzystującego niestandardową warstwę\n",
    "model = Sequential([\n",
    "    layers.Flatten(input_shape=(28, 28)),  # Rozwijamy obraz 28x28 na wektor\n",
    "    CustomLayer(64),                       # Nasza niestandardowa warstwa z 64 jednostkami\n",
    "    layers.Activation('relu'),             # Aktywacja ReLU\n",
    "    layers.Dense(10, activation='softmax') # Warstwa wyjściowa z 10 klasami\n",
    "])\n",
    "\n",
    "# Kompilacja modelu\n",
    "model.compile(optimizer=tf.keras.optimizers.Adam(learning_rate=0.001),\n",
    "              loss=tf.keras.losses.SparseCategoricalCrossentropy(),\n",
    "              metrics=[tf.keras.metrics.SparseCategoricalAccuracy()])\n",
    "\n",
    "# Wyświetlenie struktury modelu\n",
    "model.summary()"
   ]
  },
  {
   "cell_type": "markdown",
   "id": "8d99516b-473d-4a37-bbc4-afff62747d01",
   "metadata": {},
   "source": [
    "## Ćwiczenie 3\n",
    "\n",
    "- Utwórz obiekt odpowiedniej funkcji straty oraz wybranego optymalizatora\n",
    "- Utwórz obiekty odpowiednich metryk, zarówno dla zbioru treningowego jak i testowego\n",
    "- Stworz funkcję do trenowania train_step(x,y) z wykorzystaniem obiektu tf.GradientTape, do monitorowania gradientów. Wykorzystaj funkcję \"gradient\" tego obiektu do wyznaczenia gradientów funkcji straty względem parametrów modelu (model.trainable_variables) oraz metodę \"apply_gradients\" optymalizatora do modyfikacji tych parametrów. Opatrz funkcję dekoratorem @tf.function\n",
    "- Utwórz podobną funkcję dla kroku testowania modelu"
   ]
  },
  {
   "cell_type": "code",
   "execution_count": null,
   "id": "4a98ce3e",
   "metadata": {},
   "outputs": [
    {
     "name": "stdout",
     "output_type": "stream",
     "text": [
      "Start training\n",
      "Unexpected exception formatting exception. Falling back to standard exception\n"
     ]
    },
    {
     "name": "stderr",
     "output_type": "stream",
     "text": [
      "Traceback (most recent call last):\n",
      "  File \"C:\\Users\\GIGABYTE\\AppData\\Roaming\\Python\\Python311\\site-packages\\IPython\\core\\interactiveshell.py\", line 3553, in run_code\n",
      "    exec(code_obj, self.user_global_ns, self.user_ns)\n",
      "  File \"C:\\Users\\GIGABYTE\\AppData\\Local\\Temp\\ipykernel_130896\\1823440784.py\", line 76, in <module>\n",
      "    loss = train_step(x_batch, y_batch)\n",
      "           ^^^^^^^^^^^^^^^^^^^^^^^^^^^^\n",
      "  File \"C:\\Users\\GIGABYTE\\AppData\\Roaming\\Python\\Python311\\site-packages\\tensorflow\\python\\util\\traceback_utils.py\", line 153, in error_handler\n",
      "    raise e.with_traceback(filtered_tb) from None\n",
      "  File \"C:\\Users\\GIGABYTE\\AppData\\Local\\Temp\\__autograph_generated_file8xw7uc2i.py\", line 12, in tf__train_step\n",
      "    loss = ag__.converted_call(ag__.ld(loss_fn), (ag__.ld(y), ag__.ld(y_pred)), None, fscope)\n",
      "           ^^^^^^^^^^^^^^^^^^^^^^^^^^^^^^^^^^^^^^^^^^^^^^^^^^^^^^^^^^^^^^^^^^^^^^^^^^^^^^^^^^\n",
      "  File \"C:\\Users\\GIGABYTE\\AppData\\Roaming\\Python\\Python311\\site-packages\\keras\\src\\losses.py\", line 143, in __call__\n",
      "    losses = call_fn(y_true, y_pred)\n",
      "             ^^^^^^^^^^^^^^^^^^^^^^^\n",
      "  File \"C:\\Users\\GIGABYTE\\AppData\\Roaming\\Python\\Python311\\site-packages\\keras\\src\\losses.py\", line 270, in call\n",
      "    return ag_fn(y_true, y_pred, **self._fn_kwargs)\n",
      "           ^^^^^^^^^^^^^^^^^^^^^^^^^^^^^^^^^^^^^^^^\n",
      "  File \"C:\\Users\\GIGABYTE\\AppData\\Roaming\\Python\\Python311\\site-packages\\keras\\src\\losses.py\", line 2454, in sparse_categorical_crossentropy\n",
      "    return backend.sparse_categorical_crossentropy(\n",
      "           ^^^^^^^^^^^^^^^^^^^^^^^^^^^^^^^^^^^^^^^^\n",
      "  File \"C:\\Users\\GIGABYTE\\AppData\\Roaming\\Python\\Python311\\site-packages\\keras\\src\\backend.py\", line 5775, in sparse_categorical_crossentropy\n",
      "    res = tf.nn.sparse_softmax_cross_entropy_with_logits(\n",
      "          ^^^^^^^^^^^^^^^^^^^^^^^^^^^^^^^^^^^^^^^^^^^^^^^\n",
      "ValueError: in user code:\n",
      "\n",
      "    File \"C:\\Users\\GIGABYTE\\AppData\\Local\\Temp\\ipykernel_130896\\4284799304.py\", line 29, in train_step  *\n",
      "        loss = loss_fn(y, y_pred)\n",
      "    File \"C:\\Users\\GIGABYTE\\AppData\\Roaming\\Python\\Python311\\site-packages\\keras\\src\\losses.py\", line 143, in __call__  **\n",
      "        losses = call_fn(y_true, y_pred)\n",
      "    File \"C:\\Users\\GIGABYTE\\AppData\\Roaming\\Python\\Python311\\site-packages\\keras\\src\\losses.py\", line 270, in call  **\n",
      "        return ag_fn(y_true, y_pred, **self._fn_kwargs)\n",
      "    File \"C:\\Users\\GIGABYTE\\AppData\\Roaming\\Python\\Python311\\site-packages\\keras\\src\\losses.py\", line 2454, in sparse_categorical_crossentropy\n",
      "        return backend.sparse_categorical_crossentropy(\n",
      "    File \"C:\\Users\\GIGABYTE\\AppData\\Roaming\\Python\\Python311\\site-packages\\keras\\src\\backend.py\", line 5775, in sparse_categorical_crossentropy\n",
      "        res = tf.nn.sparse_softmax_cross_entropy_with_logits(\n",
      "\n",
      "    ValueError: `labels.shape` must equal `logits.shape` except for the last dimension. Received: labels.shape=(32,) and logits.shape=(25088, 10)\n",
      "\n",
      "\n",
      "During handling of the above exception, another exception occurred:\n",
      "\n",
      "Traceback (most recent call last):\n",
      "  File \"C:\\Users\\GIGABYTE\\AppData\\Roaming\\Python\\Python311\\site-packages\\IPython\\core\\interactiveshell.py\", line 2144, in showtraceback\n",
      "    stb = self.InteractiveTB.structured_traceback(\n",
      "          ^^^^^^^^^^^^^^^^^^^^^^^^^^^^^^^^^^^^^^^^\n",
      "  File \"C:\\Users\\GIGABYTE\\AppData\\Roaming\\Python\\Python311\\site-packages\\IPython\\core\\ultratb.py\", line 1435, in structured_traceback\n",
      "    return FormattedTB.structured_traceback(\n",
      "           ^^^^^^^^^^^^^^^^^^^^^^^^^^^^^^^^^\n",
      "  File \"C:\\Users\\GIGABYTE\\AppData\\Roaming\\Python\\Python311\\site-packages\\IPython\\core\\ultratb.py\", line 1326, in structured_traceback\n",
      "    return VerboseTB.structured_traceback(\n",
      "           ^^^^^^^^^^^^^^^^^^^^^^^^^^^^^^^\n",
      "  File \"C:\\Users\\GIGABYTE\\AppData\\Roaming\\Python\\Python311\\site-packages\\IPython\\core\\ultratb.py\", line 1173, in structured_traceback\n",
      "    formatted_exception = self.format_exception_as_a_whole(etype, evalue, etb, number_of_lines_of_context,\n",
      "                          ^^^^^^^^^^^^^^^^^^^^^^^^^^^^^^^^^^^^^^^^^^^^^^^^^^^^^^^^^^^^^^^^^^^^^^^^^^^^^^^^\n",
      "  File \"C:\\Users\\GIGABYTE\\AppData\\Roaming\\Python\\Python311\\site-packages\\IPython\\core\\ultratb.py\", line 1063, in format_exception_as_a_whole\n",
      "    self.get_records(etb, number_of_lines_of_context, tb_offset) if etb else []\n",
      "    ^^^^^^^^^^^^^^^^^^^^^^^^^^^^^^^^^^^^^^^^^^^^^^^^^^^^^^^^^^^^\n",
      "  File \"C:\\Users\\GIGABYTE\\AppData\\Roaming\\Python\\Python311\\site-packages\\IPython\\core\\ultratb.py\", line 1115, in get_records\n",
      "    style = stack_data.style_with_executing_node(style, self._tb_highlight)\n",
      "            ^^^^^^^^^^^^^^^^^^^^^^^^^^^^^^^^^^^^^^^^^^^^^^^^^^^^^^^^^^^^^^^\n",
      "  File \"C:\\Users\\GIGABYTE\\AppData\\Roaming\\Python\\Python311\\site-packages\\stack_data\\core.py\", line 455, in style_with_executing_node\n",
      "    class NewStyle(style):\n",
      "  File \"C:\\Users\\GIGABYTE\\AppData\\Roaming\\Python\\Python311\\site-packages\\pygments\\style.py\", line 91, in __new__\n",
      "    ndef[4] = colorformat(styledef[3:])\n",
      "              ^^^^^^^^^^^^^^^^^^^^^^^^^\n",
      "  File \"C:\\Users\\GIGABYTE\\AppData\\Roaming\\Python\\Python311\\site-packages\\pygments\\style.py\", line 58, in colorformat\n",
      "    assert False, \"wrong color format %r\" % text\n",
      "AssertionError: wrong color format 'ansiyellow'\n"
     ]
    }
   ],
   "source": [
    "import tensorflow as tf\n",
    "from tensorflow.keras import layers, Model\n",
    "\n",
    "# Definicja modelu z warstwą Flatten\n",
    "class SimpleModel(Model):\n",
    "    def __init__(self):\n",
    "        super(SimpleModel, self).__init__()\n",
    "        self.flatten = layers.Flatten()  # Dodajemy warstwę Flatten\n",
    "        self.dense1 = layers.Dense(64, activation='relu')\n",
    "        self.dense2 = layers.Dense(10, activation='softmax')  # Warstwa wyjściowa dla klasyfikacji\n",
    "\n",
    "    def call(self, inputs):\n",
    "        x = self.flatten(inputs)  # Spłaszczenie wejścia\n",
    "        x = self.dense1(x)\n",
    "        return self.dense2(x)\n",
    "\n",
    "# Utwórz obiekt funkcji straty i optymalizatora\n",
    "loss_fn = tf.keras.losses.SparseCategoricalCrossentropy(from_logits=False)  # 'from_logits=False' ponieważ używamy softmax\n",
    "optimizer = tf.keras.optimizers.Adam()\n",
    "\n",
    "# Utwórz obiekty metryk\n",
    "train_acc_metric = tf.keras.metrics.SparseCategoricalAccuracy()\n",
    "test_acc_metric = tf.keras.metrics.SparseCategoricalAccuracy()\n",
    "\n",
    "# Funkcja do trenowania modelu (jeden krok)\n",
    "@tf.function\n",
    "def train_step(x, y):\n",
    "    with tf.GradientTape() as tape:\n",
    "        # Obliczamy wyjście modelu i stratę\n",
    "        y_pred = model(x, training=True)\n",
    "        loss = loss_fn(y, y_pred)\n",
    "\n",
    "    # Obliczamy gradienty\n",
    "    gradients = tape.gradient(loss, model.trainable_variables)\n",
    "\n",
    "    # Aktualizujemy wagi modelu\n",
    "    optimizer.apply_gradients(zip(gradients, model.trainable_variables))\n",
    "\n",
    "    # Aktualizujemy metrykę dokładności dla treningu\n",
    "    train_acc_metric.update_state(y, y_pred)\n",
    "\n",
    "    return loss\n",
    "\n",
    "# Funkcja do testowania modelu (jeden krok)\n",
    "@tf.function\n",
    "def test_step(x, y):\n",
    "    # Obliczamy wyjście modelu\n",
    "    y_pred = model(x, training=False)\n",
    "    loss = loss_fn(y, y_pred)\n",
    "\n",
    "    # Aktualizujemy metrykę dokładności dla testu\n",
    "    test_acc_metric.update_state(y, y_pred)\n",
    "\n",
    "    return loss\n",
    "\n",
    "# Przykładowe dane\n",
    "(x_train, y_train), (x_test, y_test) = tf.keras.datasets.mnist.load_data()\n",
    "\n",
    "# Przekształcamy dane w kształt [batch_size, 28, 28, 1] (dodajemy wymiar kanału)\n",
    "x_train = x_train[..., tf.newaxis]  # Dodanie wymiaru kanału\n",
    "x_test = x_test[..., tf.newaxis]    # Dodanie wymiaru kanału\n",
    "\n",
    "# Normalizacja danych wejściowych do zakresu [0, 1]\n",
    "x_train = x_train / 255.0\n",
    "x_test = x_test / 255.0\n",
    "\n",
    "# Tworzymy model\n",
    "model = SimpleModel()\n",
    "\n",
    "# Tworzymy Dataset dla treningu i testu\n",
    "train_ds = tf.data.Dataset.from_tensor_slices((x_train, y_train)).shuffle(10000).batch(32)\n",
    "test_ds = tf.data.Dataset.from_tensor_slices((x_test, y_test)).batch(32)\n",
    "\n",
    "# Trening - 1 epoka\n",
    "for epoch in range(1):\n",
    "    print(\"Start training\")\n",
    "    for step, (x_batch, y_batch) in enumerate(train_ds):\n",
    "        loss = train_step(x_batch, y_batch)\n",
    "        if step % 100 == 0:\n",
    "            print(f\"Step {step}, Loss: {loss.numpy()}, Train Accuracy: {train_acc_metric.result().numpy()}\")\n",
    "\n",
    "    # Wyświetlamy dokładność treningową po epokach\n",
    "    print(f\"End of epoch {epoch}, Training Accuracy: {train_acc_metric.result().numpy()}\")\n",
    "\n",
    "# Testowanie - 1 epoka\n",
    "for epoch in range(1):\n",
    "    print(\"Start testing\")\n",
    "    for step, (x_batch, y_batch) in enumerate(test_ds):\n",
    "        loss = test_step(x_batch, y_batch)\n",
    "        if step % 100 == 0:\n",
    "            print(f\"Step {step}, Test Loss: {loss.numpy()}, Test Accuracy: {test_acc_metric.result().numpy()}\")\n",
    "\n",
    "    # Wyświetlamy dokładność testową po epokach\n",
    "    print(f\"End of epoch {epoch}, Test Accuracy: {test_acc_metric.result().numpy()}\")\n"
   ]
  },
  {
   "cell_type": "code",
   "execution_count": 28,
   "id": "a477aa25",
   "metadata": {},
   "outputs": [
    {
     "data": {
      "text/plain": [
       "<_BatchDataset element_spec=(TensorSpec(shape=(None, 28, 28, 1), dtype=tf.float64, name=None), TensorSpec(shape=(None,), dtype=tf.uint8, name=None))>"
      ]
     },
     "execution_count": 28,
     "metadata": {},
     "output_type": "execute_result"
    }
   ],
   "source": [
    "train_ds"
   ]
  },
  {
   "cell_type": "code",
   "execution_count": 42,
   "id": "b9d0c596",
   "metadata": {},
   "outputs": [
    {
     "name": "stdout",
     "output_type": "stream",
     "text": [
      "Start training\n",
      "(32, 28, 28, 10)\n",
      "(32,)\n",
      "Unexpected exception formatting exception. Falling back to standard exception\n"
     ]
    },
    {
     "name": "stderr",
     "output_type": "stream",
     "text": [
      "Traceback (most recent call last):\n",
      "  File \"C:\\Users\\GIGABYTE\\AppData\\Roaming\\Python\\Python311\\site-packages\\IPython\\core\\interactiveshell.py\", line 3553, in run_code\n",
      "    exec(code_obj, self.user_global_ns, self.user_ns)\n",
      "  File \"C:\\Users\\GIGABYTE\\AppData\\Local\\Temp\\ipykernel_130896\\2561875056.py\", line 5, in <module>\n",
      "    loss = train_step(x_batch, y_batch)\n",
      "           ^^^^^^^^^^^^^^^^^^^^^^^^^^^^\n",
      "  File \"C:\\Users\\GIGABYTE\\AppData\\Roaming\\Python\\Python311\\site-packages\\tensorflow\\python\\util\\traceback_utils.py\", line 153, in error_handler\n",
      "    raise e.with_traceback(filtered_tb) from None\n",
      "  File \"C:\\Users\\GIGABYTE\\AppData\\Local\\Temp\\__autograph_generated_fileth6bz7v8.py\", line 14, in tf__train_step\n",
      "    loss = ag__.converted_call(ag__.ld(loss_fn), (ag__.ld(y), ag__.ld(y_pred)), None, fscope)\n",
      "           ^^^^^^^^^^^^^^^^^^^^^^^^^^^^^^^^^^^^^^^^^^^^^^^^^^^^^^^^^^^^^^^^^^^^^^^^^^^^^^^^^^\n",
      "  File \"C:\\Users\\GIGABYTE\\AppData\\Roaming\\Python\\Python311\\site-packages\\keras\\src\\losses.py\", line 143, in __call__\n",
      "    losses = call_fn(y_true, y_pred)\n",
      "             ^^^^^^^^^^^^^^^^^^^^^^^\n",
      "  File \"C:\\Users\\GIGABYTE\\AppData\\Roaming\\Python\\Python311\\site-packages\\keras\\src\\losses.py\", line 270, in call\n",
      "    return ag_fn(y_true, y_pred, **self._fn_kwargs)\n",
      "           ^^^^^^^^^^^^^^^^^^^^^^^^^^^^^^^^^^^^^^^^\n",
      "  File \"C:\\Users\\GIGABYTE\\AppData\\Roaming\\Python\\Python311\\site-packages\\keras\\src\\losses.py\", line 2454, in sparse_categorical_crossentropy\n",
      "    return backend.sparse_categorical_crossentropy(\n",
      "           ^^^^^^^^^^^^^^^^^^^^^^^^^^^^^^^^^^^^^^^^\n",
      "  File \"C:\\Users\\GIGABYTE\\AppData\\Roaming\\Python\\Python311\\site-packages\\keras\\src\\backend.py\", line 5775, in sparse_categorical_crossentropy\n",
      "    res = tf.nn.sparse_softmax_cross_entropy_with_logits(\n",
      "          ^^^^^^^^^^^^^^^^^^^^^^^^^^^^^^^^^^^^^^^^^^^^^^^\n",
      "ValueError: in user code:\n",
      "\n",
      "    File \"C:\\Users\\GIGABYTE\\AppData\\Local\\Temp\\ipykernel_130896\\4112426723.py\", line 31, in train_step  *\n",
      "        loss = loss_fn(y, y_pred)\n",
      "    File \"C:\\Users\\GIGABYTE\\AppData\\Roaming\\Python\\Python311\\site-packages\\keras\\src\\losses.py\", line 143, in __call__  **\n",
      "        losses = call_fn(y_true, y_pred)\n",
      "    File \"C:\\Users\\GIGABYTE\\AppData\\Roaming\\Python\\Python311\\site-packages\\keras\\src\\losses.py\", line 270, in call  **\n",
      "        return ag_fn(y_true, y_pred, **self._fn_kwargs)\n",
      "    File \"C:\\Users\\GIGABYTE\\AppData\\Roaming\\Python\\Python311\\site-packages\\keras\\src\\losses.py\", line 2454, in sparse_categorical_crossentropy\n",
      "        return backend.sparse_categorical_crossentropy(\n",
      "    File \"C:\\Users\\GIGABYTE\\AppData\\Roaming\\Python\\Python311\\site-packages\\keras\\src\\backend.py\", line 5775, in sparse_categorical_crossentropy\n",
      "        res = tf.nn.sparse_softmax_cross_entropy_with_logits(\n",
      "\n",
      "    ValueError: `labels.shape` must equal `logits.shape` except for the last dimension. Received: labels.shape=(32,) and logits.shape=(25088, 10)\n",
      "\n",
      "\n",
      "During handling of the above exception, another exception occurred:\n",
      "\n",
      "Traceback (most recent call last):\n",
      "  File \"C:\\Users\\GIGABYTE\\AppData\\Roaming\\Python\\Python311\\site-packages\\IPython\\core\\interactiveshell.py\", line 2144, in showtraceback\n",
      "    stb = self.InteractiveTB.structured_traceback(\n",
      "          ^^^^^^^^^^^^^^^^^^^^^^^^^^^^^^^^^^^^^^^^\n",
      "  File \"C:\\Users\\GIGABYTE\\AppData\\Roaming\\Python\\Python311\\site-packages\\IPython\\core\\ultratb.py\", line 1435, in structured_traceback\n",
      "    return FormattedTB.structured_traceback(\n",
      "           ^^^^^^^^^^^^^^^^^^^^^^^^^^^^^^^^^\n",
      "  File \"C:\\Users\\GIGABYTE\\AppData\\Roaming\\Python\\Python311\\site-packages\\IPython\\core\\ultratb.py\", line 1326, in structured_traceback\n",
      "    return VerboseTB.structured_traceback(\n",
      "           ^^^^^^^^^^^^^^^^^^^^^^^^^^^^^^^\n",
      "  File \"C:\\Users\\GIGABYTE\\AppData\\Roaming\\Python\\Python311\\site-packages\\IPython\\core\\ultratb.py\", line 1173, in structured_traceback\n",
      "    formatted_exception = self.format_exception_as_a_whole(etype, evalue, etb, number_of_lines_of_context,\n",
      "                          ^^^^^^^^^^^^^^^^^^^^^^^^^^^^^^^^^^^^^^^^^^^^^^^^^^^^^^^^^^^^^^^^^^^^^^^^^^^^^^^^\n",
      "  File \"C:\\Users\\GIGABYTE\\AppData\\Roaming\\Python\\Python311\\site-packages\\IPython\\core\\ultratb.py\", line 1063, in format_exception_as_a_whole\n",
      "    self.get_records(etb, number_of_lines_of_context, tb_offset) if etb else []\n",
      "    ^^^^^^^^^^^^^^^^^^^^^^^^^^^^^^^^^^^^^^^^^^^^^^^^^^^^^^^^^^^^\n",
      "  File \"C:\\Users\\GIGABYTE\\AppData\\Roaming\\Python\\Python311\\site-packages\\IPython\\core\\ultratb.py\", line 1115, in get_records\n",
      "    style = stack_data.style_with_executing_node(style, self._tb_highlight)\n",
      "            ^^^^^^^^^^^^^^^^^^^^^^^^^^^^^^^^^^^^^^^^^^^^^^^^^^^^^^^^^^^^^^^\n",
      "  File \"C:\\Users\\GIGABYTE\\AppData\\Roaming\\Python\\Python311\\site-packages\\stack_data\\core.py\", line 455, in style_with_executing_node\n",
      "    class NewStyle(style):\n",
      "  File \"C:\\Users\\GIGABYTE\\AppData\\Roaming\\Python\\Python311\\site-packages\\pygments\\style.py\", line 91, in __new__\n",
      "    ndef[4] = colorformat(styledef[3:])\n",
      "              ^^^^^^^^^^^^^^^^^^^^^^^^^\n",
      "  File \"C:\\Users\\GIGABYTE\\AppData\\Roaming\\Python\\Python311\\site-packages\\pygments\\style.py\", line 58, in colorformat\n",
      "    assert False, \"wrong color format %r\" % text\n",
      "AssertionError: wrong color format 'ansiyellow'\n"
     ]
    }
   ],
   "source": [
    "# Trening - 1 epoka\n",
    "for epoch in range(1):\n",
    "    print(\"Start training\")\n",
    "    for step, (x_batch, y_batch) in enumerate(train_ds):\n",
    "        loss = train_step(x_batch, y_batch)\n",
    "        if step % 100 == 0:\n",
    "            # , Train Accuracy: {train_acc_metric.result().numpy()}, Loss: {loss}\n",
    "            print(f\"Step {step}\")\n",
    "\n",
    "    # # Wyświetlamy dokładność treningową po epokach\n",
    "    # print(f\"End of epoch {epoch}, Training Accuracy: {train_acc_metric.result().numpy()}\")"
   ]
  },
  {
   "cell_type": "code",
   "execution_count": null,
   "id": "e31187c6",
   "metadata": {},
   "outputs": [],
   "source": [
    "# Testowanie - 1 epoka\n",
    "for epoch in range(1):\n",
    "    print(\"Start testing\")\n",
    "    for step, (x_batch, y_batch) in enumerate(test_ds):\n",
    "        loss = test_step(x_batch, y_batch)\n",
    "        if step % 100 == 0:\n",
    "            print(f\"Step {step}, Test Loss: {loss.numpy()}, Test Accuracy: {test_acc_metric.result().numpy()}\")\n",
    "\n",
    "    # Wyświetlamy dokładność testową po epokach\n",
    "    print(f\"End of epoch {epoch}, Test Accuracy: {test_acc_metric.result().numpy()}\")"
   ]
  },
  {
   "cell_type": "markdown",
   "id": "596174cd-62c2-4fc5-98eb-1a6ee22b9c5f",
   "metadata": {},
   "source": [
    "## Ćwiczenie 4\n",
    "\n",
    " - Zaimplementuj główną pętlę uczenia modelu dla zadanej liczby epok. Na starcie każdej epoki zresetuj ustawienia obiektów metryk (metodą reset_state), następnie wykonaj kroki uczenia na batchu ze zbioru treningowego oraz testowania na batchu ze zbioru testowego (wykorzystaj zbiory z ćwiczenia nr 1), oraz wyświetl lub zapisz do listy wyniki funkcji straty i dokładności"
   ]
  },
  {
   "cell_type": "code",
   "execution_count": null,
   "id": "28bffeaf-fef5-4cd6-98be-0270781adcfa",
   "metadata": {},
   "outputs": [],
   "source": [
    "for epoch in range(EPOCHS):\n",
    "    ###################"
   ]
  },
  {
   "cell_type": "markdown",
   "id": "3243243b-f81f-430a-8917-cf97e51e3d5e",
   "metadata": {},
   "source": [
    "# OPTYMALIZACJA HIPERPARAMETRÓW"
   ]
  },
  {
   "cell_type": "markdown",
   "id": "44a33caa-8309-4b51-a13a-504a41bdf0dc",
   "metadata": {},
   "source": [
    "## Ćwiczenie 5\n",
    "\n",
    "- zaimportuj pakiet keras-tuner \n",
    "- Utwórz klasę dziedziczącą po klasie kt.HyperModel (https://keras.io/api/keras_tuner/hypermodels/), której metodą jest metoda def build(self, hp), zwracająca model generowany (i skompilowany) z wykorzystaniem frameworku Keras. parametr \"hp\" pozwala na definiowanie przedziałów poszukiwań parametrów modelu (np. liczby neuronów w warstwie)\n",
    "- Utwórz obiekt tunera (np. kt.RandomSearch, https://keras.io/api/keras_tuner/tuners/) \n",
    "- Naucz model i znajdź optymalne wartości hiperparametrów metodą tuner.search (przyjmuje takie same parametry jak metoda \"fit\" przy trenowaniu modeli)\n"
   ]
  },
  {
   "cell_type": "code",
   "execution_count": null,
   "id": "9bc219ac-a3bc-44d5-96d0-697ee2315e9e",
   "metadata": {},
   "outputs": [],
   "source": [
    "import keras_tuner as kt\n",
    "\n",
    "class .....(kt.HyperModel):\n",
    "    def build(self, hp):\n",
    "    model = ####################\n",
    "    model.compile(#########)\n",
    "    return model\n",
    "\n",
    "tuner = kt.RandomSearch(nazwa klasy(),\n",
    "    objective='val_loss',\n",
    "    max_trials=##)\n"
   ]
  }
 ],
 "metadata": {
  "kernelspec": {
   "display_name": "Python 3",
   "language": "python",
   "name": "python3"
  },
  "language_info": {
   "codemirror_mode": {
    "name": "ipython",
    "version": 3
   },
   "file_extension": ".py",
   "mimetype": "text/x-python",
   "name": "python",
   "nbconvert_exporter": "python",
   "pygments_lexer": "ipython3",
   "version": "3.11.7"
  }
 },
 "nbformat": 4,
 "nbformat_minor": 5
}
